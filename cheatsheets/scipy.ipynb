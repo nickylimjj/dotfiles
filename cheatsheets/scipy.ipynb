{
 "cells": [
  {
   "cell_type": "markdown",
   "metadata": {},
   "source": [
    "# SciPy docs"
   ]
  },
  {
   "cell_type": "markdown",
   "metadata": {},
   "source": [
    "This is a workbook for my practie on SciPy based on the lecture notes from www.scipy-lectures.org. Realising it's rich computing libraries and its powerful stack, this notebook aims to give me the comfortsbility and confidence to code in python"
   ]
  },
  {
   "cell_type": "code",
   "execution_count": 1,
   "metadata": {
    "collapsed": false
   },
   "outputs": [],
   "source": [
    "import scipy as sp\n",
    "import numpy as np\n",
    "import matplotlib as plt\n",
    "# from __future__ import division 3/2 = 1.5 3//2 = 1.0"
   ]
  },
  {
   "cell_type": "markdown",
   "metadata": {},
   "source": [
    "## inline commands and TAB\n",
    "\n",
    "Prepent a % before the command. Some good commands are timeit, debug\n",
    "\n",
    "tab after var. to bring up auto-completion"
   ]
  },
  {
   "cell_type": "code",
   "execution_count": 2,
   "metadata": {
    "collapsed": false
   },
   "outputs": [
    {
     "name": "stdout",
     "output_type": "stream",
     "text": [
      "2\n",
      "(2+1j)\n",
      "2.0\n",
      "1.0\n",
      "<type 'complex'>\n"
     ]
    }
   ],
   "source": [
    "# types\n",
    "\n",
    "a = 2\n",
    "type(a)\n",
    "float(a)\n",
    "print a\n",
    "\n",
    "a += 1j\n",
    "print a\n",
    "print a.real\n",
    "print a.imag\n",
    "print type(a)\n"
   ]
  },
  {
   "cell_type": "markdown",
   "metadata": {},
   "source": [
    "## List\n",
    "\n",
    "ordered.mutable. different types. l[start:stop:stide]"
   ]
  },
  {
   "cell_type": "code",
   "execution_count": 3,
   "metadata": {
    "collapsed": false
   },
   "outputs": [
    {
     "name": "stdout",
     "output_type": "stream",
     "text": [
      "2\n",
      "['red', 'green', 'blue', 'yellow', 2]\n",
      "['red', 'blue', 2]\n",
      "['new!', 'new!', 'green', 'blue', 'yellow', 2]\n",
      "['extend2', 'extend1', 2, 'yellow', 'blue', 'green', 'new!', 'new!']\n",
      "[2, 'blue', 'extend1', 'extend2', 'green', 'new!', 'new!', 'yellow'] ['extend2', 'extend1', 2, 'yellow', 'blue', 'green', 'new!', 'new!']\n",
      "[2, 'blue', 'extend1', 'extend2', 'green', 'new!', 'new!', 'yellow']\n",
      "[0, 1, 4, 9, 16, 25, 36, 49, 64, 81]\n"
     ]
    }
   ],
   "source": [
    "l = ['red','green','blue','yellow',2]\n",
    "print l[-1]\n",
    "print l[:]\n",
    "print l[::2]\n",
    "l[0:1] = ['new!','new!']\n",
    "print l\n",
    "l.append('append')\n",
    "l.pop()\n",
    "l.extend(['extend1','extend2'])\n",
    "l.reverse()\n",
    "print l\n",
    "new_list = sorted(l)  # creates new list\n",
    "print new_list, l\n",
    "l.sort() # in-place sorting\n",
    "print l\n",
    "\n",
    "# List comprehension\n",
    "fast_list = [i**2 for i in range (10)]\n",
    "print fast_list"
   ]
  },
  {
   "cell_type": "raw",
   "metadata": {},
   "source": [
    "## String"
   ]
  },
  {
   "cell_type": "code",
   "execution_count": 4,
   "metadata": {
    "collapsed": false
   },
   "outputs": [
    {
     "name": "stdout",
     "output_type": "stream",
     "text": [
      "hezzo world\n",
      "hello world\n",
      "hesso worsd\n"
     ]
    }
   ],
   "source": [
    "# help(str)\n",
    "s = 'hello world'\n",
    "print s.replace('l','z',2)\n",
    "print s\n",
    "print s.replace('l','s')"
   ]
  },
  {
   "cell_type": "markdown",
   "metadata": {},
   "source": [
    "## Tuples (immutable list), Sets (unordered), dictionaries (unordered)"
   ]
  },
  {
   "cell_type": "markdown",
   "metadata": {},
   "source": [
    "## Advanced iteration"
   ]
  },
  {
   "cell_type": "code",
   "execution_count": 5,
   "metadata": {
    "collapsed": false
   },
   "outputs": [
    {
     "name": "stdout",
     "output_type": "stream",
     "text": [
      "i = 0: item hello\n",
      "i = 1: item from\n",
      "i = 2: item sao\n",
      "i = 3: item paulo!\n",
      "k = a: val = 1\n",
      "k = b: val = 1.2\n",
      "k = c: val = 1j\n"
     ]
    }
   ],
   "source": [
    "# enumerate\n",
    "\n",
    "message = \"hello from sao paulo!\"\n",
    "for index,item in enumerate(message.split()):\n",
    "    print \"i = %i: item %s\" %(index, item)\n",
    "    \n",
    "# over dictionary\n",
    "d = {'a': 1, 'b':1.2, 'c':1j}\n",
    "\n",
    "for key,value in sorted(d.items()):\n",
    "    print \"k = %s: val = %s\" %(key,value)"
   ]
  },
  {
   "cell_type": "code",
   "execution_count": null,
   "metadata": {
    "collapsed": true
   },
   "outputs": [],
   "source": []
  },
  {
   "cell_type": "code",
   "execution_count": null,
   "metadata": {
    "collapsed": true
   },
   "outputs": [],
   "source": []
  }
 ],
 "metadata": {
  "kernelspec": {
   "display_name": "Python 2",
   "language": "python",
   "name": "python2"
  },
  "language_info": {
   "codemirror_mode": {
    "name": "ipython",
    "version": 2
   },
   "file_extension": ".py",
   "mimetype": "text/x-python",
   "name": "python",
   "nbconvert_exporter": "python",
   "pygments_lexer": "ipython2",
   "version": "2.7.12"
  }
 },
 "nbformat": 4,
 "nbformat_minor": 1
}
